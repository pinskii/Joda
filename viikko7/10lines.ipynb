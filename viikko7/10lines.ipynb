{
 "cells": [
  {
   "cell_type": "markdown",
   "metadata": {},
   "source": [
    "Arvioidaan Netflixin katsotuimpia ohjelmia päivittäin. Analysoidaan klusteroinnin avulla katsomäärän ja päivien määrän top 10:ssä suhdetta.\n",
    "\n",
    "Datasetin saa ladattua [tältä sivulta](https://www.kaggle.com/datasets/prasertk/netflix-daily-top-10-in-us?resource=download) (pitää kirjautua, sori) tai [GitHubista](https://github.com/Bunny-Hopper/netflix-source)"
   ]
  },
  {
   "cell_type": "code",
   "execution_count": null,
   "metadata": {},
   "outputs": [],
   "source": [
    "import pandas as pd\n",
    "import matplotlib.pyplot as plt\n",
    "from sklearn.cluster import KMeans"
   ]
  },
  {
   "cell_type": "code",
   "execution_count": null,
   "metadata": {},
   "outputs": [],
   "source": [
    "# Luetaan datasetti\n",
    "dataset = pd.read_csv('netflix_daily_top_10.csv')"
   ]
  },
  {
   "cell_type": "code",
   "execution_count": null,
   "metadata": {},
   "outputs": [],
   "source": [
    "# Valitaan halutut ominaisuudet\n",
    "X = dataset[['Days In Top 10', 'Viewership Score']]"
   ]
  },
  {
   "cell_type": "code",
   "execution_count": null,
   "metadata": {},
   "outputs": [],
   "source": [
    "# Käytetään skicit-learnin k-means -algoritmia\n",
    "kmeans = KMeans(n_clusters=3, random_state=42)\n",
    "kmeans.fit(X)\n",
    "\n",
    "# Haetaan klusterikeskipisteet\n",
    "cluster_centers = kmeans.cluster_centers_\n",
    "\n",
    "# Tehdään ennustukset klusterien osalta\n",
    "predictions = kmeans.predict(X)"
   ]
  },
  {
   "cell_type": "code",
   "execution_count": null,
   "metadata": {},
   "outputs": [],
   "source": [
    "# Visualisoidaan klusterit ja klusterikeskipisteet\n",
    "plt.scatter(X['Days In Top 10'], X['Viewership Score'], c=predictions, cmap='viridis')\n",
    "plt.scatter(cluster_centers[:, 0], cluster_centers[:, 1], marker='x', color='red', s=200, label='Cluster Centers')\n",
    "plt.xlabel('Päivät Top 10:ssä')\n",
    "plt.ylabel('Katsojamäärä')\n",
    "plt.title('Netflix-sarjojen klusterointi')\n",
    "plt.legend()\n",
    "plt.show()"
   ]
  },
  {
   "cell_type": "markdown",
   "metadata": {},
   "source": [
    "Vaikuttaa siltä, että ohjelmia, joita on katsottu paljon ja ovat olleet kauan top 10:ssä on eniten. Tämän klusterikeskipisteen vastakohta on taas sellainen ohjelma, joka ei ole ollut kauaa top 10:ssä eikä sitä ole katsottu paljoa. Kolmas klusterikeskipiste on tavallaan edellisten puoliväli, eli katsojia on jonkin verran, samoin päiviä top 10:ssä. Siinä kuitenkin katsojia on vähän enemmän suhteessa päiviin top 10:ssä."
   ]
  }
 ],
 "metadata": {
  "language_info": {
   "name": "python"
  }
 },
 "nbformat": 4,
 "nbformat_minor": 2
}
