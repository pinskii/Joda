{
 "cells": [
  {
   "cell_type": "markdown",
   "metadata": {},
   "source": [
    "# Oppimispäiväkirja"
   ]
  },
  {
   "cell_type": "markdown",
   "metadata": {},
   "source": [
    "## Viikko 1 - ohjelmien asennus"
   ]
  },
  {
   "cell_type": "markdown",
   "metadata": {},
   "source": [
    "#### Datatiedeprojektin keskeiset Python-kirjastot:\n",
    "- **Pandas**: Datan manipulaatio ja analyysi\n",
    "- **Scikit-learn**: Luokittelu- ja regressioalgoritmit\n",
    "- **Seaborn**: Datan visuaalinen analyysi\n",
    "- **Holoviews**: Datan visualisointi\n",
    "- **Streamlit**: Koneoppimisen ja datatieteen sovelluskehitys"
   ]
  },
  {
   "cell_type": "markdown",
   "metadata": {},
   "source": [
    "#### Miten kirjastot kannattaa asentaa?\n",
    "\n",
    "Kirjastojen asennukseen selkein tapa Windowsilla on käyttää command linea eli komentoriviä. Pip on Pythonin asennuksen mukana tuleva pakettien- ja kirjastojenhallintajärjestelmä, jonka avulla ohjelmat on helppo asentaa. Yleisesti kirjastojen asennus toimii komentorivikomennolla \"pip install <kirjaston nimi>\". Näin asensin Pandas-, Seaborn- ja Holoviews-kirjastot. Testataan, että asennukset onnistuivat:"
   ]
  },
  {
   "cell_type": "code",
   "execution_count": 2,
   "metadata": {},
   "outputs": [],
   "source": [
    "import pandas\n",
    "import seaborn\n",
    "import holoviews"
   ]
  },
  {
   "cell_type": "markdown",
   "metadata": {},
   "source": [
    "Huomasin kuitenkin, että Scikit-learn ja Streamlit -kirjastot eivät tue 32-bittistä Windowsia ja Pythonia. En siis itse saanut niitä asennettua, mutta muilla käyttöjärjestelmillä asennus toimisi samalla tavalla kuin yllä. "
   ]
  },
  {
   "cell_type": "markdown",
   "metadata": {},
   "source": [
    "#### Erilaisia ympäristövaihtoehtoja ovat:\n",
    "- CSC Notebooks\n",
    "- Google Colab\n",
    "- Anaconda\n",
    "- Microsoft Visual Studio Code\n",
    "- Jupyter Lab\n",
    "- pilvipalvelupohjainen analytiikkaympäristö, esim. Google Cloud Platform tai Microsoft Azure\n",
    "\n",
    "**Mitkä ovat niiden vahvuudet ja heikkoudet?**\n",
    "\n",
    "Osa ympäristöistä tukevat pilvipalvelupohjaista laskentaa ja tallennusta. Näitä ovat Google Colab, \n",
    "\n",
    "**Miten teet valinnan ympäristöjen välillä?**\n",
    "\n",
    "Valitsin itse käyttöön Visual Studio Coden, sillä olen käyttänyt sitä jo paljon aiemmin, eli käyttöönottoon ei tarvitse käyttää aikaa ja opetella lisää. Pidän myös siitä, että mukana tulee kätevä ja selkeäkäyttöinen IDE ja VSCode tukee myös Gitin käyttöä samalla."
   ]
  },
  {
   "cell_type": "markdown",
   "metadata": {},
   "source": [
    "#### Miten dataa luetaan ja hallinnoidaan?"
   ]
  }
 ],
 "metadata": {
  "kernelspec": {
   "display_name": "Python 3",
   "language": "python",
   "name": "python3"
  },
  "language_info": {
   "codemirror_mode": {
    "name": "ipython",
    "version": 3
   },
   "file_extension": ".py",
   "mimetype": "text/x-python",
   "name": "python",
   "nbconvert_exporter": "python",
   "pygments_lexer": "ipython3",
   "version": "3.8.5"
  }
 },
 "nbformat": 4,
 "nbformat_minor": 2
}
