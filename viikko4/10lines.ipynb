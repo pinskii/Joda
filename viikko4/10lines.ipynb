{
 "cells": [
  {
   "cell_type": "markdown",
   "metadata": {},
   "source": [
    "### Ohjattu oppiminen"
   ]
  },
  {
   "cell_type": "markdown",
   "metadata": {},
   "source": [
    "Arvioidaan Netflixin katsotuimpia ohjelmia päivittäin. Yritetään selvittää, vaikuttaako Netflixin yksinoikeus (exclusive) ohjelman suosioon, eli tässä tapauksessa sen päivien määrään top 10:ssä."
   ]
  },
  {
   "cell_type": "markdown",
   "metadata": {},
   "source": [
    "Datasetin saa ladattua [tältä sivulta](https://www.kaggle.com/datasets/prasertk/netflix-daily-top-10-in-us?resource=download) (pitää kirjautua, sori) tai [GitHubista](https://github.com/Bunny-Hopper/netflix-source)"
   ]
  },
  {
   "cell_type": "code",
   "execution_count": null,
   "metadata": {},
   "outputs": [],
   "source": [
    "import pandas as pd\n",
    "import matplotlib.pyplot as plt\n",
    "import seaborn as sns\n",
    "from sklearn.model_selection import train_test_split\n",
    "from sklearn.linear_model import LinearRegression\n",
    "from sklearn.metrics import mean_squared_error\n",
    "\n",
    "# Lataa datasetti\n",
    "data = pd.read_csv('netflix_daily_top_10.csv')\n",
    "\n",
    "# Muuta Yes-arvo numeroksi 1 ja tyhjät arvot nollaksi\n",
    "data['Netflix Exclusive'] = data['Netflix Exclusive'].apply(lambda x: 1 if x == 'Yes' else 0)\n",
    "\n",
    "# Jaetaan data piirteisiin (X) ja kohdemuuttujaan (y)\n",
    "X = data[['Netflix Exclusive']]\n",
    "y = data['Days In Top 10']\n",
    "\n",
    "# Jaetaan data koulutus- ja testausjoukkoihin\n",
    "X_train, X_test, y_train, y_test = train_test_split(X, y, test_size=0.2, random_state=0)\n",
    "\n",
    "# Koulutetaan lineaarinen regressiomalli\n",
    "model = LinearRegression()\n",
    "\n",
    "model.fit(X_train, y_train)\n",
    "\n",
    "# Tehdään ennuste\n",
    "y_pred = model.predict(X_test)\n",
    "\n",
    "# Sitten visualisoidaan malli\n",
    "plt.figure(figsize=(10, 6))\n",
    "sns.scatterplot(x=X_test['Netflix Exclusive'], y=y_test, color='blue', label='Actual Data')\n",
    "sns.lineplot(x=X_test['Netflix Exclusive'], y=y_pred, color='red', label='Regression Line')\n",
    "plt.xlabel('Netflixin yksinoikeus (1=on, 0=ei)')\n",
    "plt.ylabel('Päivät Top 10:ssä')\n",
    "plt.title('Netflixin yksinoikeuden vaikutus päivien määrään Top 10:ssä')\n",
    "plt.legend()\n",
    "plt.show()"
   ]
  },
  {
   "cell_type": "markdown",
   "metadata": {},
   "source": [
    "Visuaalisaation avulla voidaan (ehkä) arvioida, että ohjelmat ovat kauemmin top 10:ssä katsotuimmassa ohjelmassa, kun ne eivät ole Netflixin yksinoikeudella jakamia."
   ]
  }
 ],
 "metadata": {
  "kernelspec": {
   "display_name": "Python 3",
   "language": "python",
   "name": "python3"
  },
  "language_info": {
   "name": "python",
   "version": "3.8.5"
  }
 },
 "nbformat": 4,
 "nbformat_minor": 2
}
