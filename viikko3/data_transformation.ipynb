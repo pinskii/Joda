{
 "cells": [
  {
   "cell_type": "markdown",
   "metadata": {},
   "source": [
    "### Data transformation\n",
    "\n",
    "This is the second automatically graded exercise for JODA. The objective here is to get our hands dirty with data.\n",
    "\n",
    "The context of this particular analysis is a fictional company that routinely runs different machine learning operations.\n",
    "\n",
    "We have generated a dataset that has the following columns or properties (to be engineered into features):\n",
    "\n",
    "- Date\n",
    "- Department\n",
    "- ML Task ID\n",
    "- ML Method\n",
    "- Task Category\n",
    "- Model Complexity (Parameters)\n",
    "- Training Data Size (GB)\n",
    "- Training Duration (Hours)\n",
    "- Hardware Used\n",
    "- Energy Consumption (kWh)\n",
    "- CO2 Emissions (Kg)\n",
    "- Cloud Provider\n",
    "\n",
    "Moreover, there is a secondary dataset that includes information about the energy sources for the different cloud providers:\n",
    "\n",
    "- Cloud Provider\n",
    "- Green Energy\n",
    "\n",
    "TODO: Import the needed packages"
   ]
  },
  {
   "cell_type": "code",
   "execution_count": 2,
   "metadata": {},
   "outputs": [],
   "source": [
    "import pandas as pd"
   ]
  },
  {
   "cell_type": "code",
   "execution_count": 18,
   "metadata": {},
   "outputs": [
    {
     "name": "stdout",
     "output_type": "stream",
     "text": [
      "Date                              object\n",
      "Department                        object\n",
      "ML Task ID                        object\n",
      "ML Method                         object\n",
      "Task Category                     object\n",
      "Model Complexity (Parameters)    float64\n",
      "Training Data Size (GB)          float64\n",
      "Training Duration (Hours)        float64\n",
      "Hardware Used                     object\n",
      "Energy Consumption (kWh)         float64\n",
      "CO2 Emissions (Kg)               float64\n",
      "Cloud Provider                    object\n",
      "Green Energy                      object\n",
      "dtype: object\n"
     ]
    }
   ],
   "source": [
    "df_co2 = pd.read_excel('data/co2-emissions.xlsx')\n",
    "df_providers = pd.read_excel('data/cloud-providers.xlsx')\n",
    "\n",
    "df_final = df_co2.merge(df_providers, how='left', on='Cloud Provider')"
   ]
  },
  {
   "cell_type": "markdown",
   "metadata": {},
   "source": [
    "Aggregate the data to department level. That is, each row should represents the aggregated values for each department. Notice that you do not need to aggregate each different column, only the ones instructed explicitly."
   ]
  },
  {
   "cell_type": "code",
   "execution_count": 22,
   "metadata": {},
   "outputs": [
    {
     "name": "stdout",
     "output_type": "stream",
     "text": [
      "<pandas.core.groupby.generic.SeriesGroupBy object at 0x191A5118>\n"
     ]
    }
   ],
   "source": [
    "df_department_level = df_final.groupby('Department').agg('CO2 Emissions (Kg)')\n",
    "\n",
    "print(df_department_level)"
   ]
  },
  {
   "cell_type": "markdown",
   "metadata": {},
   "source": [
    "Calculate the total of CO2 emissions for each department"
   ]
  },
  {
   "cell_type": "code",
   "execution_count": 23,
   "metadata": {},
   "outputs": [
    {
     "data": {
      "text/plain": [
       "Department\n",
       "Customer Support    12565.569898\n",
       "Finance             13568.637182\n",
       "Human Resources     15256.236043\n",
       "Marketing           12821.756125\n",
       "Operations          15004.901708\n",
       "R&D                 14644.874294\n",
       "Name: CO2 Emissions (Kg), dtype: float64"
      ]
     },
     "execution_count": 23,
     "metadata": {},
     "output_type": "execute_result"
    }
   ],
   "source": [
    "df_department_level.sum()"
   ]
  },
  {
   "cell_type": "markdown",
   "metadata": {},
   "source": [
    "Rename CO2 emission column to co2_emissions_kg"
   ]
  },
  {
   "cell_type": "code",
   "execution_count": 24,
   "metadata": {},
   "outputs": [],
   "source": [
    "df_final.rename(columns={'CO2 Emissions (Kg)': 'co2_emissions_kg'}, inplace=True)"
   ]
  },
  {
   "cell_type": "markdown",
   "metadata": {},
   "source": [
    "Create a function that picks the most common value among in a Pandas Series object"
   ]
  },
  {
   "cell_type": "code",
   "execution_count": 25,
   "metadata": {},
   "outputs": [
    {
     "data": {
      "text/plain": [
       "'B'"
      ]
     },
     "execution_count": 25,
     "metadata": {},
     "output_type": "execute_result"
    }
   ],
   "source": [
    "def pick_most_frequent(values):\n",
    "    mode_series = values.mode()\n",
    "    \n",
    "    # If multiple modes are present, return the first mode\n",
    "    most_common = mode_series.iloc[0] if not mode_series.empty else None\n",
    "    \n",
    "    return most_common\n",
    "\n",
    "pick_most_frequent(pd.Series(['A', 'B', 'B', 'C']))"
   ]
  },
  {
   "cell_type": "markdown",
   "metadata": {},
   "source": [
    "Pick the most frequent ML method for each department."
   ]
  },
  {
   "cell_type": "code",
   "execution_count": 27,
   "metadata": {},
   "outputs": [
    {
     "name": "stdout",
     "output_type": "stream",
     "text": [
      "Department\n",
      "Customer Support    Linear Regression\n",
      "Finance                           RNN\n",
      "Human Resources                   RNN\n",
      "Marketing               Decision Tree\n",
      "Operations                Transformer\n",
      "R&D                               RNN\n",
      "Name: ML Method, dtype: object\n"
     ]
    }
   ],
   "source": [
    "most_frequent_ml_method_per_department = df_final.groupby('Department')['ML Method'].agg(pick_most_frequent)\n",
    "print(most_frequent_ml_method_per_department)"
   ]
  },
  {
   "cell_type": "markdown",
   "metadata": {},
   "source": [
    "Make sure that the rows are sorted according to CO2 emissions in a way that the department with the largest emissions is first."
   ]
  },
  {
   "cell_type": "code",
   "execution_count": 33,
   "metadata": {},
   "outputs": [
    {
     "name": "stdout",
     "output_type": "stream",
     "text": [
      "         Department  co2_emissions_kg\n",
      "2   Human Resources      15256.236043\n",
      "4        Operations      15004.901708\n",
      "5               R&D      14644.874294\n",
      "1           Finance      13568.637182\n",
      "3         Marketing      12821.756125\n",
      "0  Customer Support      12565.569898\n"
     ]
    }
   ],
   "source": [
    "total_co2_emissions_per_department = df_final.groupby('Department')['co2_emissions_kg'].sum()\n",
    "\n",
    "# Convert the result to a DataFrame\n",
    "df_emissions_per_department = total_co2_emissions_per_department.reset_index()\n",
    "\n",
    "# Sort the DataFrame by CO2 emissions in descending order\n",
    "df_emissions_per_department_sorted = df_emissions_per_department.sort_values(by='co2_emissions_kg', ascending=False)\n",
    "\n",
    "# Display the sorted DataFrame\n",
    "print(df_emissions_per_department_sorted)"
   ]
  },
  {
   "cell_type": "markdown",
   "metadata": {},
   "source": [
    "Calculate the CO2 emissions for each department in different Green Energy categories. That is, the resulting dataframe will have as many colums as there are values for Green Energy."
   ]
  },
  {
   "cell_type": "code",
   "execution_count": 35,
   "metadata": {},
   "outputs": [
    {
     "name": "stdout",
     "output_type": "stream",
     "text": [
      "Green Energy            Green       Hybrid      Unknown\n",
      "Department                                             \n",
      "Customer Support  1463.697220  1425.139532  9676.733146\n",
      "Finance           2991.539843  2427.085307  8150.012032\n",
      "Human Resources   2423.439560  3431.874604  9400.921879\n",
      "Marketing         2282.675323  2923.163567  7615.917236\n",
      "Operations        2253.368372  3779.599277  8971.934059\n",
      "R&D               3028.493500  2280.103568  9336.277226\n"
     ]
    }
   ],
   "source": [
    "pivot_table = df_final.pivot_table(index='Department', columns='Green Energy', values='co2_emissions_kg', aggfunc='sum')\n",
    "\n",
    "print(pivot_table)"
   ]
  },
  {
   "cell_type": "markdown",
   "metadata": {},
   "source": [
    "Next, let's try to do something a bit more difficult. That is, calculate department CO2 emissions per energy type.\n",
    "\n",
    "One way to achieve this is to use pivot_table() function to create a separate dataframe with the new columns and join (using merge()) that to the main dataframe. We are sure there are even more clever ways.\n",
    "\n",
    "TODO: Include the specified columns to the result dataframe, one per each energy type."
   ]
  },
  {
   "cell_type": "code",
   "execution_count": 38,
   "metadata": {},
   "outputs": [
    {
     "name": "stdout",
     "output_type": "stream",
     "text": [
      "           Date        Department ML Task ID          ML Method  \\\n",
      "0    2024-02-01         Marketing     Task_1                RNN   \n",
      "1    2024-02-01        Operations     Task_2  Linear Regression   \n",
      "2    2024-02-01               R&D     Task_3      Decision Tree   \n",
      "3    2024-02-01  Customer Support     Task_4      Decision Tree   \n",
      "4    2024-02-02           Finance     Task_5        Transformer   \n",
      "..          ...               ...        ...                ...   \n",
      "995  2024-10-06   Human Resources   Task_996        Transformer   \n",
      "996  2024-10-07         Marketing   Task_997                RNN   \n",
      "997  2024-10-07        Operations   Task_998      Decision Tree   \n",
      "998  2024-10-07               R&D   Task_999  Linear Regression   \n",
      "999  2024-10-07  Customer Support  Task_1000  Linear Regression   \n",
      "\n",
      "            Task Category  Model Complexity (Parameters)  \\\n",
      "0    Image Classification                   2.008306e+06   \n",
      "1              Regression                   1.053744e+03   \n",
      "2     Machine Translation                   1.098484e+03   \n",
      "3         Text Generation                   9.131620e+02   \n",
      "4              Clustering                   8.023062e+06   \n",
      "..                    ...                            ...   \n",
      "995        Classification                   1.019204e+07   \n",
      "996  Image Classification                   2.151301e+06   \n",
      "997            Regression                   9.806739e+02   \n",
      "998   Machine Translation                   1.149546e+03   \n",
      "999       Text Generation                   8.866438e+02   \n",
      "\n",
      "     Training Data Size (GB)  Training Duration (Hours) Hardware Used  \\\n",
      "0                  44.885179                  11.437543           CPU   \n",
      "1                  12.288902                   0.994852           TPU   \n",
      "2                 127.561567                   1.903623           CPU   \n",
      "3                  15.563152                   2.348526           CPU   \n",
      "4                   4.043882                  44.420819           TPU   \n",
      "..                       ...                        ...           ...   \n",
      "995                 9.003950                  52.962566           GPU   \n",
      "996                53.736713                  11.923898           GPU   \n",
      "997                 6.344784                   2.266005           TPU   \n",
      "998                61.137406                   1.196389           CPU   \n",
      "999                24.217024                   1.119869           GPU   \n",
      "\n",
      "     Energy Consumption (kWh)  co2_emissions_kg Cloud Provider Green Energy  \\\n",
      "0                  150.145641         60.058256   EtherCompute        Green   \n",
      "1                   12.260144          4.904058      CloudTech      Unknown   \n",
      "2                   27.869589         11.147836      CloudTech      Unknown   \n",
      "3                   24.124306          9.649722   VirtualStack       Hybrid   \n",
      "4                  559.037179        223.614871     DataNimbus      Unknown   \n",
      "..                        ...               ...            ...          ...   \n",
      "995                839.302301        335.720921         SkyNet      Unknown   \n",
      "996                151.037512         60.415005         SkyNet      Unknown   \n",
      "997                 35.675635         14.270254   VirtualStack       Hybrid   \n",
      "998                 14.085609          5.634244   EtherCompute        Green   \n",
      "999                 20.959053          8.383621   VirtualStack       Hybrid   \n",
      "\n",
      "           Green       Hybrid      Unknown  \n",
      "0    2282.675323  2923.163567  7615.917236  \n",
      "1    2253.368372  3779.599277  8971.934059  \n",
      "2    3028.493500  2280.103568  9336.277226  \n",
      "3    1463.697220  1425.139532  9676.733146  \n",
      "4    2991.539843  2427.085307  8150.012032  \n",
      "..           ...          ...          ...  \n",
      "995  2423.439560  3431.874604  9400.921879  \n",
      "996  2282.675323  2923.163567  7615.917236  \n",
      "997  2253.368372  3779.599277  8971.934059  \n",
      "998  3028.493500  2280.103568  9336.277226  \n",
      "999  1463.697220  1425.139532  9676.733146  \n",
      "\n",
      "[1000 rows x 16 columns]\n"
     ]
    }
   ],
   "source": [
    "pivot_table = pd.pivot_table(df_final, values='co2_emissions_kg', index='Department', columns='Green Energy', aggfunc='sum')\n",
    "\n",
    "df_result = pd.merge(df_final, pivot_table, how='left', on='Department')\n",
    "\n",
    "print(df_result)"
   ]
  },
  {
   "cell_type": "code",
   "execution_count": 39,
   "metadata": {},
   "outputs": [
    {
     "data": {
      "text/plain": [
       "Green Energy\n",
       "Unknown    3\n",
       "Green      1\n",
       "Hybrid     1\n",
       "Name: count, dtype: int64"
      ]
     },
     "execution_count": 39,
     "metadata": {},
     "output_type": "execute_result"
    }
   ],
   "source": [
    "df_providers['Green Energy'].value_counts()"
   ]
  },
  {
   "cell_type": "markdown",
   "metadata": {},
   "source": [
    "Save the results"
   ]
  },
  {
   "cell_type": "code",
   "execution_count": 40,
   "metadata": {},
   "outputs": [
    {
     "name": "stdout",
     "output_type": "stream",
     "text": [
      "Folder 'results' created.\n"
     ]
    }
   ],
   "source": [
    "import os\n",
    "\n",
    "def ensure_folder_exists(folder_path):\n",
    "    if not os.path.exists(folder_path):\n",
    "        os.makedirs(folder_path)\n",
    "        print(f\"Folder '{folder_path}' created.\")\n",
    "    else:\n",
    "        print(f\"Folder '{folder_path}' already exists.\")\n",
    "\n",
    "ensure_folder_exists('results')"
   ]
  },
  {
   "cell_type": "code",
   "execution_count": 45,
   "metadata": {},
   "outputs": [],
   "source": [
    "# df_result.to_excel('results/department_co2.xlsx', index=False)\n",
    "df_final.to_pickle('results/department_co2.pkl')"
   ]
  }
 ],
 "metadata": {
  "kernelspec": {
   "display_name": "Python 3",
   "language": "python",
   "name": "python3"
  },
  "language_info": {
   "codemirror_mode": {
    "name": "ipython",
    "version": 3
   },
   "file_extension": ".py",
   "mimetype": "text/x-python",
   "name": "python",
   "nbconvert_exporter": "python",
   "pygments_lexer": "ipython3",
   "version": "3.8.5"
  }
 },
 "nbformat": 4,
 "nbformat_minor": 2
}
