{
 "cells": [
  {
   "cell_type": "markdown",
   "metadata": {},
   "source": [
    "### Data transformation\n",
    "\n",
    "This is the second automatically graded exercise for JODA. The objective here is to get our hands dirty with data.\n",
    "\n",
    "The context of this particular analysis is a fictional company that routinely runs different machine learning operations.\n",
    "\n",
    "We have generated a dataset that has the following columns or properties (to be engineered into features):\n",
    "\n",
    "- Date\n",
    "- Department\n",
    "- ML Task ID\n",
    "- ML Method\n",
    "- Task Category\n",
    "- Model Complexity (Parameters)\n",
    "- Training Data Size (GB)\n",
    "- Training Duration (Hours)\n",
    "- Hardware Used\n",
    "- Energy Consumption (kWh)\n",
    "- CO2 Emissions (Kg)\n",
    "- Cloud Provider\n",
    "\n",
    "Moreover, there is a secondary dataset that includes information about the energy sources for the different cloud providers:\n",
    "\n",
    "- Cloud Provider\n",
    "- Green Energy\n",
    "\n",
    "Import the needed packages"
   ]
  },
  {
   "cell_type": "code",
   "execution_count": 2,
   "metadata": {},
   "outputs": [],
   "source": [
    "import pandas as pd"
   ]
  },
  {
   "cell_type": "code",
   "execution_count": 18,
   "metadata": {},
   "outputs": [
    {
     "name": "stdout",
     "output_type": "stream",
     "text": [
      "Index(['Date', 'Department', 'ML Task ID', 'ML Method', 'Task Category',\n",
      "       'Model Complexity (Parameters)', 'Training Data Size (GB)',\n",
      "       'Training Duration (Hours)', 'Hardware Used',\n",
      "       'Energy Consumption (kWh)', 'CO2 Emissions (Kg)', 'Cloud Provider',\n",
      "       'Green Energy'],\n",
      "      dtype='object')\n"
     ]
    }
   ],
   "source": [
    "df_co2 = pd.read_excel('data/co2-emissions.xlsx')\n",
    "df_providers = pd.read_excel('data/cloud-providers.xlsx')\n",
    "\n",
    "df_final = df_co2.merge(df_providers, how='left', on='Cloud Provider')\n",
    "print(df_final.columns)"
   ]
  },
  {
   "cell_type": "markdown",
   "metadata": {},
   "source": [
    "Aggregate the data to department level. That is, each row should represents the aggregated values for each department. Notice that you do not need to aggregate each different column, only the ones instructed explicitly."
   ]
  },
  {
   "cell_type": "markdown",
   "metadata": {},
   "source": [
    "Calculate the total of CO2 emissions for each department"
   ]
  },
  {
   "cell_type": "code",
   "execution_count": 27,
   "metadata": {},
   "outputs": [
    {
     "name": "stdout",
     "output_type": "stream",
     "text": [
      "         Department  CO2 Emissions (Kg)\n",
      "0  Customer Support        12565.569898\n",
      "1           Finance        13568.637182\n",
      "2   Human Resources        15256.236043\n",
      "3         Marketing        12821.756125\n",
      "4        Operations        15004.901708\n",
      "5               R&D        14644.874294\n"
     ]
    }
   ],
   "source": [
    "df_department_level = df_final.groupby('Department').agg({'CO2 Emissions (Kg)': 'sum'})\n",
    "\n",
    "# Reset index to convert the index (Department) into a regular column\n",
    "df_department_level = df_department_level.reset_index()\n",
    "\n",
    "# Display the resulting DataFrame\n",
    "print(df_department_level)"
   ]
  },
  {
   "cell_type": "markdown",
   "metadata": {},
   "source": [
    "Rename CO2 emission column to co2_emissions_kg"
   ]
  },
  {
   "cell_type": "code",
   "execution_count": 28,
   "metadata": {},
   "outputs": [],
   "source": [
    "df_department_level.rename(columns={'CO2 Emissions (Kg)': 'co2_emissions_kg'}, inplace=True)"
   ]
  },
  {
   "cell_type": "markdown",
   "metadata": {},
   "source": [
    "Create a function that picks the most common value among in a Pandas Series object"
   ]
  },
  {
   "cell_type": "code",
   "execution_count": 29,
   "metadata": {},
   "outputs": [
    {
     "data": {
      "text/plain": [
       "'B'"
      ]
     },
     "execution_count": 29,
     "metadata": {},
     "output_type": "execute_result"
    }
   ],
   "source": [
    "def pick_most_frequent(values):\n",
    "    mode_series = values.mode()\n",
    "    \n",
    "    # If multiple modes are present, return the first mode\n",
    "    most_common = mode_series.iloc[0] if not mode_series.empty else None\n",
    "    \n",
    "    return most_common\n",
    "\n",
    "pick_most_frequent(pd.Series(['A', 'B', 'B', 'C']))"
   ]
  },
  {
   "cell_type": "markdown",
   "metadata": {},
   "source": [
    "Pick the most frequent ML method for each department."
   ]
  },
  {
   "cell_type": "code",
   "execution_count": 31,
   "metadata": {},
   "outputs": [
    {
     "name": "stdout",
     "output_type": "stream",
     "text": [
      "Department\n",
      "Customer Support    Linear Regression\n",
      "Finance                           RNN\n",
      "Human Resources                   RNN\n",
      "Marketing               Decision Tree\n",
      "Operations                Transformer\n",
      "R&D                               RNN\n",
      "Name: ML Method, dtype: object\n",
      "         Department  co2_emissions_kg          ML Method\n",
      "0  Customer Support      12565.569898  Linear Regression\n",
      "1           Finance      13568.637182                RNN\n",
      "2   Human Resources      15256.236043                RNN\n",
      "3         Marketing      12821.756125      Decision Tree\n",
      "4        Operations      15004.901708        Transformer\n",
      "5               R&D      14644.874294                RNN\n"
     ]
    }
   ],
   "source": [
    "most_frequent_ml_method_per_department = df_final.groupby('Department')['ML Method'].agg(pick_most_frequent)\n",
    "print(most_frequent_ml_method_per_department)\n",
    "\n",
    "df_department_level = df_department_level.merge(most_frequent_ml_method_per_department, on='Department', how='left')\n",
    "print(df_department_level)"
   ]
  },
  {
   "cell_type": "markdown",
   "metadata": {},
   "source": [
    "Make sure that the rows are sorted according to CO2 emissions in a way that the department with the largest emissions is first."
   ]
  },
  {
   "cell_type": "code",
   "execution_count": 37,
   "metadata": {},
   "outputs": [
    {
     "name": "stdout",
     "output_type": "stream",
     "text": [
      "         Department  co2_emissions_kg          ML Method\n",
      "2   Human Resources      15256.236043                RNN\n",
      "4        Operations      15004.901708        Transformer\n",
      "5               R&D      14644.874294                RNN\n",
      "1           Finance      13568.637182                RNN\n",
      "3         Marketing      12821.756125      Decision Tree\n",
      "0  Customer Support      12565.569898  Linear Regression\n"
     ]
    }
   ],
   "source": [
    "df_department_level = df_department_level.sort_values(by='co2_emissions_kg', ascending=False)\n",
    "\n",
    "print(df_department_level)"
   ]
  },
  {
   "cell_type": "markdown",
   "metadata": {},
   "source": [
    "Calculate the CO2 emissions for each department in different Green Energy categories. That is, the resulting dataframe will have as many colums as there are values for Green Energy."
   ]
  },
  {
   "cell_type": "code",
   "execution_count": 40,
   "metadata": {},
   "outputs": [
    {
     "name": "stdout",
     "output_type": "stream",
     "text": [
      "Green Energy            Green       Hybrid      Unknown\n",
      "Department                                             \n",
      "Customer Support  1463.697220  1425.139532  9676.733146\n",
      "Finance           2991.539843  2427.085307  8150.012032\n",
      "Human Resources   2423.439560  3431.874604  9400.921879\n",
      "Marketing         2282.675323  2923.163567  7615.917236\n",
      "Operations        2253.368372  3779.599277  8971.934059\n",
      "R&D               3028.493500  2280.103568  9336.277226\n"
     ]
    }
   ],
   "source": [
    "pivot_table = df_final.pivot_table(index='Department', columns='Green Energy', values='CO2 Emissions (Kg)', aggfunc='sum')\n",
    "\n",
    "print(pivot_table)"
   ]
  },
  {
   "cell_type": "markdown",
   "metadata": {},
   "source": [
    "Next, let's try to do something a bit more difficult. That is, calculate department CO2 emissions per energy type.\n",
    "\n",
    "One way to achieve this is to use pivot_table() function to create a separate dataframe with the new columns and join (using merge()) that to the main dataframe. We are sure there are even more clever ways.\n",
    "\n",
    "Include the specified columns to the result dataframe, one per each energy type."
   ]
  },
  {
   "cell_type": "code",
   "execution_count": 42,
   "metadata": {},
   "outputs": [
    {
     "name": "stdout",
     "output_type": "stream",
     "text": [
      "         Department  co2_emissions_kg          ML Method        Green  \\\n",
      "0   Human Resources      15256.236043                RNN  2423.439560   \n",
      "1        Operations      15004.901708        Transformer  2253.368372   \n",
      "2               R&D      14644.874294                RNN  3028.493500   \n",
      "3           Finance      13568.637182                RNN  2991.539843   \n",
      "4         Marketing      12821.756125      Decision Tree  2282.675323   \n",
      "5  Customer Support      12565.569898  Linear Regression  1463.697220   \n",
      "\n",
      "        Hybrid      Unknown  \n",
      "0  3431.874604  9400.921879  \n",
      "1  3779.599277  8971.934059  \n",
      "2  2280.103568  9336.277226  \n",
      "3  2427.085307  8150.012032  \n",
      "4  2923.163567  7615.917236  \n",
      "5  1425.139532  9676.733146  \n"
     ]
    }
   ],
   "source": [
    "pivot_table = pd.pivot_table(df_final, values='CO2 Emissions (Kg)', index='Department', columns='Green Energy', aggfunc='sum')\n",
    "\n",
    "df_result = pd.merge(df_department_level, pivot_table, how='left', on='Department')\n",
    "\n",
    "print(df_result)"
   ]
  },
  {
   "cell_type": "markdown",
   "metadata": {},
   "source": [
    "Save the results"
   ]
  },
  {
   "cell_type": "code",
   "execution_count": 43,
   "metadata": {},
   "outputs": [
    {
     "name": "stdout",
     "output_type": "stream",
     "text": [
      "Folder 'results' already exists.\n"
     ]
    }
   ],
   "source": [
    "import os\n",
    "\n",
    "def ensure_folder_exists(folder_path):\n",
    "    if not os.path.exists(folder_path):\n",
    "        os.makedirs(folder_path)\n",
    "        print(f\"Folder '{folder_path}' created.\")\n",
    "    else:\n",
    "        print(f\"Folder '{folder_path}' already exists.\")\n",
    "\n",
    "ensure_folder_exists('results')"
   ]
  },
  {
   "cell_type": "code",
   "execution_count": 44,
   "metadata": {},
   "outputs": [],
   "source": [
    "# df_result_sorted.to_excel('results/department_co2.xlsx', index=False)\n",
    "df_result.to_pickle('results/department_co2.pkl')"
   ]
  }
 ],
 "metadata": {
  "kernelspec": {
   "display_name": "Python 3",
   "language": "python",
   "name": "python3"
  },
  "language_info": {
   "codemirror_mode": {
    "name": "ipython",
    "version": 3
   },
   "file_extension": ".py",
   "mimetype": "text/x-python",
   "name": "python",
   "nbconvert_exporter": "python",
   "pygments_lexer": "ipython3",
   "version": "3.8.5"
  }
 },
 "nbformat": 4,
 "nbformat_minor": 2
}
