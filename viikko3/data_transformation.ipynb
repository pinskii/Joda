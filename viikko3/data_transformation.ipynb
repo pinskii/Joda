{
 "cells": [
  {
   "cell_type": "markdown",
   "metadata": {},
   "source": [
    "### Data transformation\n",
    "\n",
    "This is the second automatically graded exercise for JODA. The objective here is to get our hands dirty with data.\n",
    "\n",
    "The context of this particular analysis is a fictional company that routinely runs different machine learning operations.\n",
    "\n",
    "We have generated a dataset that has the following columns or properties (to be engineered into features):\n",
    "\n",
    "- Date\n",
    "- Department\n",
    "- ML Task ID\n",
    "- ML Method\n",
    "- Task Category\n",
    "- Model Complexity (Parameters)\n",
    "- Training Data Size (GB)\n",
    "- Training Duration (Hours)\n",
    "- Hardware Used\n",
    "- Energy Consumption (kWh)\n",
    "- CO2 Emissions (Kg)\n",
    "- Cloud Provider\n",
    "\n",
    "Moreover, there is a secondary dataset that includes information about the energy sources for the different cloud providers:\n",
    "\n",
    "- Cloud Provider\n",
    "- Green Energy\n",
    "\n",
    "TODO: Import the needed packages"
   ]
  },
  {
   "cell_type": "code",
   "execution_count": 2,
   "metadata": {},
   "outputs": [],
   "source": [
    "import pandas as pd"
   ]
  },
  {
   "cell_type": "code",
   "execution_count": 18,
   "metadata": {},
   "outputs": [
    {
     "name": "stdout",
     "output_type": "stream",
     "text": [
      "Date                              object\n",
      "Department                        object\n",
      "ML Task ID                        object\n",
      "ML Method                         object\n",
      "Task Category                     object\n",
      "Model Complexity (Parameters)    float64\n",
      "Training Data Size (GB)          float64\n",
      "Training Duration (Hours)        float64\n",
      "Hardware Used                     object\n",
      "Energy Consumption (kWh)         float64\n",
      "CO2 Emissions (Kg)               float64\n",
      "Cloud Provider                    object\n",
      "Green Energy                      object\n",
      "dtype: object\n"
     ]
    }
   ],
   "source": [
    "df_co2 = pd.read_excel('data/co2-emissions.xlsx')\n",
    "df_providers = pd.read_excel('data/cloud-providers.xlsx')\n",
    "\n",
    "df_final = df_co2.merge(df_providers, how='left', on='Cloud Provider')"
   ]
  },
  {
   "cell_type": "markdown",
   "metadata": {},
   "source": [
    "Aggregate the data to department level. That is, each row should represents the aggregated values for each department. Notice that you do not need to aggregate each different column, only the ones instructed explicitly."
   ]
  },
  {
   "cell_type": "code",
   "execution_count": 22,
   "metadata": {},
   "outputs": [
    {
     "name": "stdout",
     "output_type": "stream",
     "text": [
      "<pandas.core.groupby.generic.SeriesGroupBy object at 0x191A5118>\n"
     ]
    }
   ],
   "source": [
    "df_department_level = df_final.groupby('Department').agg('CO2 Emissions (Kg)')\n",
    "\n",
    "print(df_department_level)"
   ]
  },
  {
   "cell_type": "markdown",
   "metadata": {},
   "source": [
    "Calculate the total of CO2 emissions for each department"
   ]
  },
  {
   "cell_type": "code",
   "execution_count": 23,
   "metadata": {},
   "outputs": [
    {
     "data": {
      "text/plain": [
       "Department\n",
       "Customer Support    12565.569898\n",
       "Finance             13568.637182\n",
       "Human Resources     15256.236043\n",
       "Marketing           12821.756125\n",
       "Operations          15004.901708\n",
       "R&D                 14644.874294\n",
       "Name: CO2 Emissions (Kg), dtype: float64"
      ]
     },
     "execution_count": 23,
     "metadata": {},
     "output_type": "execute_result"
    }
   ],
   "source": [
    "df_department_level.sum()"
   ]
  },
  {
   "cell_type": "markdown",
   "metadata": {},
   "source": [
    "Rename CO2 emission column to co2_emissions_kg"
   ]
  },
  {
   "cell_type": "code",
   "execution_count": 24,
   "metadata": {},
   "outputs": [],
   "source": [
    "df_final.rename(columns={'CO2 Emissions (Kg)': 'co2_emissions_kg'}, inplace=True)"
   ]
  },
  {
   "cell_type": "markdown",
   "metadata": {},
   "source": [
    "Create a function that picks the most common value among in a Pandas Series object"
   ]
  },
  {
   "cell_type": "code",
   "execution_count": 25,
   "metadata": {},
   "outputs": [
    {
     "data": {
      "text/plain": [
       "'B'"
      ]
     },
     "execution_count": 25,
     "metadata": {},
     "output_type": "execute_result"
    }
   ],
   "source": [
    "def pick_most_frequent(values):\n",
    "    mode_series = values.mode()\n",
    "    \n",
    "    # If multiple modes are present, return the first mode\n",
    "    most_common = mode_series.iloc[0] if not mode_series.empty else None\n",
    "    \n",
    "    return most_common\n",
    "\n",
    "pick_most_frequent(pd.Series(['A', 'B', 'B', 'C']))"
   ]
  },
  {
   "cell_type": "markdown",
   "metadata": {},
   "source": [
    "Pick the most frequent ML method for each department."
   ]
  },
  {
   "cell_type": "code",
   "execution_count": 27,
   "metadata": {},
   "outputs": [
    {
     "name": "stdout",
     "output_type": "stream",
     "text": [
      "Department\n",
      "Customer Support    Linear Regression\n",
      "Finance                           RNN\n",
      "Human Resources                   RNN\n",
      "Marketing               Decision Tree\n",
      "Operations                Transformer\n",
      "R&D                               RNN\n",
      "Name: ML Method, dtype: object\n"
     ]
    }
   ],
   "source": [
    "most_frequent_ml_method_per_department = df_final.groupby('Department')['ML Method'].agg(pick_most_frequent)\n",
    "print(most_frequent_ml_method_per_department)"
   ]
  },
  {
   "cell_type": "markdown",
   "metadata": {},
   "source": [
    "Make sure that the rows are sorted according to CO2 emissions in a way that the department with the largest emissions is first."
   ]
  },
  {
   "cell_type": "code",
   "execution_count": 33,
   "metadata": {},
   "outputs": [
    {
     "name": "stdout",
     "output_type": "stream",
     "text": [
      "         Department  co2_emissions_kg\n",
      "2   Human Resources      15256.236043\n",
      "4        Operations      15004.901708\n",
      "5               R&D      14644.874294\n",
      "1           Finance      13568.637182\n",
      "3         Marketing      12821.756125\n",
      "0  Customer Support      12565.569898\n"
     ]
    }
   ],
   "source": [
    "total_co2_emissions_per_department = df_final.groupby('Department')['co2_emissions_kg'].sum()\n",
    "\n",
    "# Convert the result to a DataFrame\n",
    "df_emissions_per_department = total_co2_emissions_per_department.reset_index()\n",
    "\n",
    "# Sort the DataFrame by CO2 emissions in descending order\n",
    "df_emissions_per_department_sorted = df_emissions_per_department.sort_values(by='co2_emissions_kg', ascending=False)\n",
    "\n",
    "# Display the sorted DataFrame\n",
    "print(df_emissions_per_department_sorted)"
   ]
  },
  {
   "cell_type": "markdown",
   "metadata": {},
   "source": [
    "Calculate the CO2 emissions for each department in different Green Energy categories. That is, the resulting dataframe will have as many colums as there are values for Green Energy."
   ]
  },
  {
   "cell_type": "code",
   "execution_count": 35,
   "metadata": {},
   "outputs": [
    {
     "name": "stdout",
     "output_type": "stream",
     "text": [
      "Green Energy            Green       Hybrid      Unknown\n",
      "Department                                             \n",
      "Customer Support  1463.697220  1425.139532  9676.733146\n",
      "Finance           2991.539843  2427.085307  8150.012032\n",
      "Human Resources   2423.439560  3431.874604  9400.921879\n",
      "Marketing         2282.675323  2923.163567  7615.917236\n",
      "Operations        2253.368372  3779.599277  8971.934059\n",
      "R&D               3028.493500  2280.103568  9336.277226\n"
     ]
    }
   ],
   "source": [
    "pivot_table = df_final.pivot_table(index='Department', columns='Green Energy', values='co2_emissions_kg', aggfunc='sum')\n",
    "\n",
    "print(pivot_table)"
   ]
  },
  {
   "cell_type": "markdown",
   "metadata": {},
   "source": [
    "Next, let's try to do something a bit more difficult. That is, calculate department CO2 emissions per energy type.\n",
    "\n",
    "One way to achieve this is to use pivot_table() function to create a separate dataframe with the new columns and join (using merge()) that to the main dataframe. We are sure there are even more clever ways.\n",
    "\n",
    "TODO: Include the specified columns to the result dataframe, one per each energy type."
   ]
  },
  {
   "cell_type": "code",
   "execution_count": 38,
   "metadata": {},
   "outputs": [
    {
     "name": "stdout",
     "output_type": "stream",
     "text": [
      "           Date        Department ML Task ID          ML Method  \\\n",
      "0    2024-02-01         Marketing     Task_1                RNN   \n",
      "1    2024-02-01        Operations     Task_2  Linear Regression   \n",
      "2    2024-02-01               R&D     Task_3      Decision Tree   \n",
      "3    2024-02-01  Customer Support     Task_4      Decision Tree   \n",
      "4    2024-02-02           Finance     Task_5        Transformer   \n",
      "..          ...               ...        ...                ...   \n",
      "995  2024-10-06   Human Resources   Task_996        Transformer   \n",
      "996  2024-10-07         Marketing   Task_997                RNN   \n",
      "997  2024-10-07        Operations   Task_998      Decision Tree   \n",
      "998  2024-10-07               R&D   Task_999  Linear Regression   \n",
      "999  2024-10-07  Customer Support  Task_1000  Linear Regression   \n",
      "\n",
      "            Task Category  Model Complexity (Parameters)  \\\n",
      "0    Image Classification                   2.008306e+06   \n",
      "1              Regression                   1.053744e+03   \n",
      "2     Machine Translation                   1.098484e+03   \n",
      "3         Text Generation                   9.131620e+02   \n",
      "4              Clustering                   8.023062e+06   \n",
      "..                    ...                            ...   \n",
      "995        Classification                   1.019204e+07   \n",
      "996  Image Classification                   2.151301e+06   \n",
      "997            Regression                   9.806739e+02   \n",
      "998   Machine Translation                   1.149546e+03   \n",
      "999       Text Generation                   8.866438e+02   \n",
      "\n",
      "     Training Data Size (GB)  Training Duration (Hours) Hardware Used  \\\n",
      "0                  44.885179                  11.437543           CPU   \n",
      "1                  12.288902                   0.994852           TPU   \n",
      "2                 127.561567                   1.903623           CPU   \n",
      "3                  15.563152                   2.348526           CPU   \n",
      "4                   4.043882                  44.420819           TPU   \n",
      "..                       ...                        ...           ...   \n",
      "995                 9.003950                  52.962566           GPU   \n",
      "996                53.736713                  11.923898           GPU   \n",
      "997                 6.344784                   2.266005           TPU   \n",
      "998                61.137406                   1.196389           CPU   \n",
      "999                24.217024                   1.119869           GPU   \n",
      "\n",
      "     Energy Consumption (kWh)  co2_emissions_kg Cloud Provider Green Energy  \\\n",
      "0                  150.145641         60.058256   EtherCompute        Green   \n",
      "1                   12.260144          4.904058      CloudTech      Unknown   \n",
      "2                   27.869589         11.147836      CloudTech      Unknown   \n",
      "3                   24.124306          9.649722   VirtualStack       Hybrid   \n",
      "4                  559.037179        223.614871     DataNimbus      Unknown   \n",
      "..                        ...               ...            ...          ...   \n",
      "995                839.302301        335.720921         SkyNet      Unknown   \n",
      "996                151.037512         60.415005         SkyNet      Unknown   \n",
      "997                 35.675635         14.270254   VirtualStack       Hybrid   \n",
      "998                 14.085609          5.634244   EtherCompute        Green   \n",
      "999                 20.959053          8.383621   VirtualStack       Hybrid   \n",
      "\n",
      "           Green       Hybrid      Unknown  \n",
      "0    2282.675323  2923.163567  7615.917236  \n",
      "1    2253.368372  3779.599277  8971.934059  \n",
      "2    3028.493500  2280.103568  9336.277226  \n",
      "3    1463.697220  1425.139532  9676.733146  \n",
      "4    2991.539843  2427.085307  8150.012032  \n",
      "..           ...          ...          ...  \n",
      "995  2423.439560  3431.874604  9400.921879  \n",
      "996  2282.675323  2923.163567  7615.917236  \n",
      "997  2253.368372  3779.599277  8971.934059  \n",
      "998  3028.493500  2280.103568  9336.277226  \n",
      "999  1463.697220  1425.139532  9676.733146  \n",
      "\n",
      "[1000 rows x 16 columns]\n"
     ]
    }
   ],
   "source": [
    "pivot_table = pd.pivot_table(df_final, values='co2_emissions_kg', index='Department', columns='Green Energy', aggfunc='sum')\n",
    "\n",
    "df_result = pd.merge(df_final, pivot_table, how='left', on='Department')\n",
    "\n",
    "print(df_result)"
   ]
  },
  {
   "cell_type": "code",
   "execution_count": 39,
   "metadata": {},
   "outputs": [
    {
     "data": {
      "text/plain": [
       "Green Energy\n",
       "Unknown    3\n",
       "Green      1\n",
       "Hybrid     1\n",
       "Name: count, dtype: int64"
      ]
     },
     "execution_count": 39,
     "metadata": {},
     "output_type": "execute_result"
    }
   ],
   "source": [
    "df_providers['Green Energy'].value_counts()"
   ]
  },
  {
   "cell_type": "markdown",
   "metadata": {},
   "source": [
    "Save the results"
   ]
  },
  {
   "cell_type": "code",
   "execution_count": 47,
   "metadata": {},
   "outputs": [
    {
     "data": {
      "text/html": [
       "<div>\n",
       "<style scoped>\n",
       "    .dataframe tbody tr th:only-of-type {\n",
       "        vertical-align: middle;\n",
       "    }\n",
       "\n",
       "    .dataframe tbody tr th {\n",
       "        vertical-align: top;\n",
       "    }\n",
       "\n",
       "    .dataframe thead th {\n",
       "        text-align: right;\n",
       "    }\n",
       "</style>\n",
       "<table border=\"1\" class=\"dataframe\">\n",
       "  <thead>\n",
       "    <tr style=\"text-align: right;\">\n",
       "      <th></th>\n",
       "      <th>Date</th>\n",
       "      <th>Department</th>\n",
       "      <th>ML Task ID</th>\n",
       "      <th>ML Method</th>\n",
       "      <th>Task Category</th>\n",
       "      <th>Model Complexity (Parameters)</th>\n",
       "      <th>Training Data Size (GB)</th>\n",
       "      <th>Training Duration (Hours)</th>\n",
       "      <th>Hardware Used</th>\n",
       "      <th>Energy Consumption (kWh)</th>\n",
       "      <th>co2_emissions_kg</th>\n",
       "      <th>Cloud Provider</th>\n",
       "      <th>Green Energy</th>\n",
       "      <th>Green</th>\n",
       "      <th>Hybrid</th>\n",
       "      <th>Unknown</th>\n",
       "    </tr>\n",
       "  </thead>\n",
       "  <tbody>\n",
       "    <tr>\n",
       "      <th>318</th>\n",
       "      <td>2024-04-20</td>\n",
       "      <td>Marketing</td>\n",
       "      <td>Task_319</td>\n",
       "      <td>Transformer</td>\n",
       "      <td>Image Classification</td>\n",
       "      <td>1.064802e+07</td>\n",
       "      <td>45.844458</td>\n",
       "      <td>55.331869</td>\n",
       "      <td>GPU</td>\n",
       "      <td>1072.284004</td>\n",
       "      <td>428.913602</td>\n",
       "      <td>VirtualStack</td>\n",
       "      <td>Hybrid</td>\n",
       "      <td>2282.675323</td>\n",
       "      <td>2923.163567</td>\n",
       "      <td>7615.917236</td>\n",
       "    </tr>\n",
       "    <tr>\n",
       "      <th>202</th>\n",
       "      <td>2024-03-22</td>\n",
       "      <td>Finance</td>\n",
       "      <td>Task_203</td>\n",
       "      <td>Transformer</td>\n",
       "      <td>Clustering</td>\n",
       "      <td>1.099255e+07</td>\n",
       "      <td>7.172414</td>\n",
       "      <td>53.489389</td>\n",
       "      <td>CPU</td>\n",
       "      <td>1053.716742</td>\n",
       "      <td>421.486697</td>\n",
       "      <td>EtherCompute</td>\n",
       "      <td>Green</td>\n",
       "      <td>2991.539843</td>\n",
       "      <td>2427.085307</td>\n",
       "      <td>8150.012032</td>\n",
       "    </tr>\n",
       "    <tr>\n",
       "      <th>440</th>\n",
       "      <td>2024-05-21</td>\n",
       "      <td>R&amp;D</td>\n",
       "      <td>Task_441</td>\n",
       "      <td>Transformer</td>\n",
       "      <td>Machine Translation</td>\n",
       "      <td>9.165866e+06</td>\n",
       "      <td>94.618311</td>\n",
       "      <td>55.441554</td>\n",
       "      <td>CPU</td>\n",
       "      <td>1052.107628</td>\n",
       "      <td>420.843051</td>\n",
       "      <td>VirtualStack</td>\n",
       "      <td>Hybrid</td>\n",
       "      <td>3028.493500</td>\n",
       "      <td>2280.103568</td>\n",
       "      <td>9336.277226</td>\n",
       "    </tr>\n",
       "    <tr>\n",
       "      <th>353</th>\n",
       "      <td>2024-04-29</td>\n",
       "      <td>Human Resources</td>\n",
       "      <td>Task_354</td>\n",
       "      <td>Transformer</td>\n",
       "      <td>Classification</td>\n",
       "      <td>9.640545e+06</td>\n",
       "      <td>12.730769</td>\n",
       "      <td>56.246868</td>\n",
       "      <td>TPU</td>\n",
       "      <td>1037.078669</td>\n",
       "      <td>414.831468</td>\n",
       "      <td>DataNimbus</td>\n",
       "      <td>Unknown</td>\n",
       "      <td>2423.439560</td>\n",
       "      <td>3431.874604</td>\n",
       "      <td>9400.921879</td>\n",
       "    </tr>\n",
       "    <tr>\n",
       "      <th>434</th>\n",
       "      <td>2024-05-19</td>\n",
       "      <td>R&amp;D</td>\n",
       "      <td>Task_435</td>\n",
       "      <td>Transformer</td>\n",
       "      <td>Machine Translation</td>\n",
       "      <td>8.733604e+06</td>\n",
       "      <td>125.171246</td>\n",
       "      <td>55.608675</td>\n",
       "      <td>GPU</td>\n",
       "      <td>1036.925230</td>\n",
       "      <td>414.770092</td>\n",
       "      <td>CloudTech</td>\n",
       "      <td>Unknown</td>\n",
       "      <td>3028.493500</td>\n",
       "      <td>2280.103568</td>\n",
       "      <td>9336.277226</td>\n",
       "    </tr>\n",
       "    <tr>\n",
       "      <th>...</th>\n",
       "      <td>...</td>\n",
       "      <td>...</td>\n",
       "      <td>...</td>\n",
       "      <td>...</td>\n",
       "      <td>...</td>\n",
       "      <td>...</td>\n",
       "      <td>...</td>\n",
       "      <td>...</td>\n",
       "      <td>...</td>\n",
       "      <td>...</td>\n",
       "      <td>...</td>\n",
       "      <td>...</td>\n",
       "      <td>...</td>\n",
       "      <td>...</td>\n",
       "      <td>...</td>\n",
       "      <td>...</td>\n",
       "    </tr>\n",
       "    <tr>\n",
       "      <th>50</th>\n",
       "      <td>2024-02-13</td>\n",
       "      <td>R&amp;D</td>\n",
       "      <td>Task_51</td>\n",
       "      <td>SVM</td>\n",
       "      <td>Machine Translation</td>\n",
       "      <td>5.675277e+03</td>\n",
       "      <td>125.028984</td>\n",
       "      <td>0.422184</td>\n",
       "      <td>GPU</td>\n",
       "      <td>4.701053</td>\n",
       "      <td>1.880421</td>\n",
       "      <td>CloudTech</td>\n",
       "      <td>Unknown</td>\n",
       "      <td>3028.493500</td>\n",
       "      <td>2280.103568</td>\n",
       "      <td>9336.277226</td>\n",
       "    </tr>\n",
       "    <tr>\n",
       "      <th>32</th>\n",
       "      <td>2024-02-09</td>\n",
       "      <td>R&amp;D</td>\n",
       "      <td>Task_33</td>\n",
       "      <td>SVM</td>\n",
       "      <td>Machine Translation</td>\n",
       "      <td>4.124282e+03</td>\n",
       "      <td>79.999292</td>\n",
       "      <td>0.451365</td>\n",
       "      <td>TPU</td>\n",
       "      <td>4.582951</td>\n",
       "      <td>1.833181</td>\n",
       "      <td>SkyNet</td>\n",
       "      <td>Unknown</td>\n",
       "      <td>3028.493500</td>\n",
       "      <td>2280.103568</td>\n",
       "      <td>9336.277226</td>\n",
       "    </tr>\n",
       "    <tr>\n",
       "      <th>372</th>\n",
       "      <td>2024-05-04</td>\n",
       "      <td>Marketing</td>\n",
       "      <td>Task_373</td>\n",
       "      <td>SVM</td>\n",
       "      <td>Image Classification</td>\n",
       "      <td>4.587321e+03</td>\n",
       "      <td>49.416901</td>\n",
       "      <td>0.405034</td>\n",
       "      <td>CPU</td>\n",
       "      <td>4.529689</td>\n",
       "      <td>1.811876</td>\n",
       "      <td>EtherCompute</td>\n",
       "      <td>Green</td>\n",
       "      <td>2282.675323</td>\n",
       "      <td>2923.163567</td>\n",
       "      <td>7615.917236</td>\n",
       "    </tr>\n",
       "    <tr>\n",
       "      <th>412</th>\n",
       "      <td>2024-05-14</td>\n",
       "      <td>Finance</td>\n",
       "      <td>Task_413</td>\n",
       "      <td>SVM</td>\n",
       "      <td>Clustering</td>\n",
       "      <td>5.450440e+03</td>\n",
       "      <td>4.428222</td>\n",
       "      <td>0.416315</td>\n",
       "      <td>CPU</td>\n",
       "      <td>4.518829</td>\n",
       "      <td>1.807532</td>\n",
       "      <td>CloudTech</td>\n",
       "      <td>Unknown</td>\n",
       "      <td>2991.539843</td>\n",
       "      <td>2427.085307</td>\n",
       "      <td>8150.012032</td>\n",
       "    </tr>\n",
       "    <tr>\n",
       "      <th>110</th>\n",
       "      <td>2024-02-28</td>\n",
       "      <td>R&amp;D</td>\n",
       "      <td>Task_111</td>\n",
       "      <td>SVM</td>\n",
       "      <td>Machine Translation</td>\n",
       "      <td>5.316469e+03</td>\n",
       "      <td>146.877783</td>\n",
       "      <td>0.434948</td>\n",
       "      <td>CPU</td>\n",
       "      <td>4.462870</td>\n",
       "      <td>1.785148</td>\n",
       "      <td>VirtualStack</td>\n",
       "      <td>Hybrid</td>\n",
       "      <td>3028.493500</td>\n",
       "      <td>2280.103568</td>\n",
       "      <td>9336.277226</td>\n",
       "    </tr>\n",
       "  </tbody>\n",
       "</table>\n",
       "<p>1000 rows × 16 columns</p>\n",
       "</div>"
      ],
      "text/plain": [
       "           Date       Department ML Task ID    ML Method  \\\n",
       "318  2024-04-20        Marketing   Task_319  Transformer   \n",
       "202  2024-03-22          Finance   Task_203  Transformer   \n",
       "440  2024-05-21              R&D   Task_441  Transformer   \n",
       "353  2024-04-29  Human Resources   Task_354  Transformer   \n",
       "434  2024-05-19              R&D   Task_435  Transformer   \n",
       "..          ...              ...        ...          ...   \n",
       "50   2024-02-13              R&D    Task_51          SVM   \n",
       "32   2024-02-09              R&D    Task_33          SVM   \n",
       "372  2024-05-04        Marketing   Task_373          SVM   \n",
       "412  2024-05-14          Finance   Task_413          SVM   \n",
       "110  2024-02-28              R&D   Task_111          SVM   \n",
       "\n",
       "            Task Category  Model Complexity (Parameters)  \\\n",
       "318  Image Classification                   1.064802e+07   \n",
       "202            Clustering                   1.099255e+07   \n",
       "440   Machine Translation                   9.165866e+06   \n",
       "353        Classification                   9.640545e+06   \n",
       "434   Machine Translation                   8.733604e+06   \n",
       "..                    ...                            ...   \n",
       "50    Machine Translation                   5.675277e+03   \n",
       "32    Machine Translation                   4.124282e+03   \n",
       "372  Image Classification                   4.587321e+03   \n",
       "412            Clustering                   5.450440e+03   \n",
       "110   Machine Translation                   5.316469e+03   \n",
       "\n",
       "     Training Data Size (GB)  Training Duration (Hours) Hardware Used  \\\n",
       "318                45.844458                  55.331869           GPU   \n",
       "202                 7.172414                  53.489389           CPU   \n",
       "440                94.618311                  55.441554           CPU   \n",
       "353                12.730769                  56.246868           TPU   \n",
       "434               125.171246                  55.608675           GPU   \n",
       "..                       ...                        ...           ...   \n",
       "50                125.028984                   0.422184           GPU   \n",
       "32                 79.999292                   0.451365           TPU   \n",
       "372                49.416901                   0.405034           CPU   \n",
       "412                 4.428222                   0.416315           CPU   \n",
       "110               146.877783                   0.434948           CPU   \n",
       "\n",
       "     Energy Consumption (kWh)  co2_emissions_kg Cloud Provider Green Energy  \\\n",
       "318               1072.284004        428.913602   VirtualStack       Hybrid   \n",
       "202               1053.716742        421.486697   EtherCompute        Green   \n",
       "440               1052.107628        420.843051   VirtualStack       Hybrid   \n",
       "353               1037.078669        414.831468     DataNimbus      Unknown   \n",
       "434               1036.925230        414.770092      CloudTech      Unknown   \n",
       "..                        ...               ...            ...          ...   \n",
       "50                   4.701053          1.880421      CloudTech      Unknown   \n",
       "32                   4.582951          1.833181         SkyNet      Unknown   \n",
       "372                  4.529689          1.811876   EtherCompute        Green   \n",
       "412                  4.518829          1.807532      CloudTech      Unknown   \n",
       "110                  4.462870          1.785148   VirtualStack       Hybrid   \n",
       "\n",
       "           Green       Hybrid      Unknown  \n",
       "318  2282.675323  2923.163567  7615.917236  \n",
       "202  2991.539843  2427.085307  8150.012032  \n",
       "440  3028.493500  2280.103568  9336.277226  \n",
       "353  2423.439560  3431.874604  9400.921879  \n",
       "434  3028.493500  2280.103568  9336.277226  \n",
       "..           ...          ...          ...  \n",
       "50   3028.493500  2280.103568  9336.277226  \n",
       "32   3028.493500  2280.103568  9336.277226  \n",
       "372  2282.675323  2923.163567  7615.917236  \n",
       "412  2991.539843  2427.085307  8150.012032  \n",
       "110  3028.493500  2280.103568  9336.277226  \n",
       "\n",
       "[1000 rows x 16 columns]"
      ]
     },
     "execution_count": 47,
     "metadata": {},
     "output_type": "execute_result"
    }
   ],
   "source": [
    "df_result.sort_values(by='co2_emissions_kg', ascending=False)"
   ]
  },
  {
   "cell_type": "code",
   "execution_count": 50,
   "metadata": {},
   "outputs": [
    {
     "name": "stdout",
     "output_type": "stream",
     "text": [
      "           Date       Department ML Task ID          ML Method  \\\n",
      "0    2024-02-01        Marketing     Task_1                RNN   \n",
      "1    2024-02-02        Marketing     Task_7                CNN   \n",
      "2    2024-02-04        Marketing    Task_13      Decision Tree   \n",
      "3    2024-02-05        Marketing    Task_19  Linear Regression   \n",
      "4    2024-02-07        Marketing    Task_25      Decision Tree   \n",
      "..          ...              ...        ...                ...   \n",
      "995  2024-09-30  Human Resources   Task_972        Transformer   \n",
      "996  2024-10-02  Human Resources   Task_978  Linear Regression   \n",
      "997  2024-10-03  Human Resources   Task_984                SVM   \n",
      "998  2024-10-05  Human Resources   Task_990                RNN   \n",
      "999  2024-10-06  Human Resources   Task_996        Transformer   \n",
      "\n",
      "            Task Category  Model Complexity (Parameters)  \\\n",
      "0    Image Classification                   2.008306e+06   \n",
      "1    Image Classification                   1.182935e+06   \n",
      "2    Image Classification                   9.823778e+02   \n",
      "3    Image Classification                   8.349115e+02   \n",
      "4    Image Classification                   8.411749e+02   \n",
      "..                    ...                            ...   \n",
      "995        Classification                   1.044854e+07   \n",
      "996        Classification                   1.112638e+03   \n",
      "997        Classification                   4.903681e+03   \n",
      "998        Classification                   2.192868e+06   \n",
      "999        Classification                   1.019204e+07   \n",
      "\n",
      "     Training Data Size (GB)  Training Duration (Hours) Hardware Used  \\\n",
      "0                  44.885179                  11.437543           CPU   \n",
      "1                  59.546066                  21.430831           CPU   \n",
      "2                  42.059176                   1.849589           CPU   \n",
      "3                  74.796534                   0.974523           CPU   \n",
      "4                  31.354033                   2.220619           CPU   \n",
      "..                       ...                        ...           ...   \n",
      "995                16.585984                  47.310816           GPU   \n",
      "996                18.262675                   1.161482           CPU   \n",
      "997                21.588975                   0.552686           GPU   \n",
      "998                16.628811                  13.084707           CPU   \n",
      "999                 9.003950                  52.962566           GPU   \n",
      "\n",
      "     Energy Consumption (kWh)  co2_emissions_kg_x Cloud Provider Green Energy  \\\n",
      "0                  150.145641           60.058256   EtherCompute        Green   \n",
      "1                  348.390269          139.356108     DataNimbus      Unknown   \n",
      "2                   32.612928           13.045171   VirtualStack       Hybrid   \n",
      "3                   18.340844            7.336338      CloudTech      Unknown   \n",
      "4                   44.081535           17.632614     DataNimbus      Unknown   \n",
      "..                        ...                 ...            ...          ...   \n",
      "995                801.150132          320.460053         SkyNet      Unknown   \n",
      "996                 22.701915            9.080766         SkyNet      Unknown   \n",
      "997                  8.151005            3.260402         SkyNet      Unknown   \n",
      "998                173.095444           69.238178      CloudTech      Unknown   \n",
      "999                839.302301          335.720921         SkyNet      Unknown   \n",
      "\n",
      "           Green       Hybrid      Unknown  co2_emissions_kg_y  \n",
      "0    2282.675323  2923.163567  7615.917236        12821.756125  \n",
      "1    2282.675323  2923.163567  7615.917236        12821.756125  \n",
      "2    2282.675323  2923.163567  7615.917236        12821.756125  \n",
      "3    2282.675323  2923.163567  7615.917236        12821.756125  \n",
      "4    2282.675323  2923.163567  7615.917236        12821.756125  \n",
      "..           ...          ...          ...                 ...  \n",
      "995  2423.439560  3431.874604  9400.921879        15256.236043  \n",
      "996  2423.439560  3431.874604  9400.921879        15256.236043  \n",
      "997  2423.439560  3431.874604  9400.921879        15256.236043  \n",
      "998  2423.439560  3431.874604  9400.921879        15256.236043  \n",
      "999  2423.439560  3431.874604  9400.921879        15256.236043  \n",
      "\n",
      "[1000 rows x 17 columns]\n"
     ]
    }
   ],
   "source": [
    "total_co2_emissions_per_department = df_result.groupby('Department')['co2_emissions_kg'].sum()\n",
    "\n",
    "# Convert the result to a DataFrame and sort it by CO2 emissions in descending order\n",
    "df_emissions_per_department = total_co2_emissions_per_department.reset_index()\n",
    "df_emissions_per_department_sorted = df_emissions_per_department.sort_values(by='co2_emissions_kg', ascending=False)\n",
    "\n",
    "# Merge df_result with df_emissions_per_department_sorted on 'Department' column\n",
    "df_result_sorted = df_result.merge(df_emissions_per_department_sorted, on='Department')\n",
    "\n",
    "# Display the sorted DataFrame\n",
    "print(df_result_sorted)"
   ]
  },
  {
   "cell_type": "code",
   "execution_count": 40,
   "metadata": {},
   "outputs": [
    {
     "name": "stdout",
     "output_type": "stream",
     "text": [
      "Folder 'results' created.\n"
     ]
    }
   ],
   "source": [
    "import os\n",
    "\n",
    "def ensure_folder_exists(folder_path):\n",
    "    if not os.path.exists(folder_path):\n",
    "        os.makedirs(folder_path)\n",
    "        print(f\"Folder '{folder_path}' created.\")\n",
    "    else:\n",
    "        print(f\"Folder '{folder_path}' already exists.\")\n",
    "\n",
    "ensure_folder_exists('results')"
   ]
  },
  {
   "cell_type": "code",
   "execution_count": 51,
   "metadata": {},
   "outputs": [],
   "source": [
    "# df_result_sorted.to_excel('results/department_co2.xlsx', index=False)\n",
    "df_result_sorted.to_pickle('results/department_co2.pkl')"
   ]
  }
 ],
 "metadata": {
  "kernelspec": {
   "display_name": "Python 3",
   "language": "python",
   "name": "python3"
  },
  "language_info": {
   "codemirror_mode": {
    "name": "ipython",
    "version": 3
   },
   "file_extension": ".py",
   "mimetype": "text/x-python",
   "name": "python",
   "nbconvert_exporter": "python",
   "pygments_lexer": "ipython3",
   "version": "3.8.5"
  }
 },
 "nbformat": 4,
 "nbformat_minor": 2
}
