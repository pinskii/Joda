{
 "cells": [
  {
   "cell_type": "markdown",
   "metadata": {},
   "source": [
    "Yritetään tehdä jonkinlainen web scraper etsimällä dataa sallitulta sivulta. Sallitut sivut voi nähdä kirjoittamalla '/robots.txt' sivuston URL:n perään. Google sallii raapimisen esimerkiksi heidän työpaikkasivultaan."
   ]
  },
  {
   "cell_type": "markdown",
   "metadata": {},
   "source": [
    "Esimerkki Googlen työpaikkasivusta:\n",
    "- Laitetaan hakuun pelkkä Suomi\n",
    "- Haetaan kaikki tittelit käyttämällä oikeaa luokkaa (luokan nimi piti kuitenkin löytää tutkimalla sivun HTML-koodia)\n",
    "- Luodaan titteleistä data frame"
   ]
  },
  {
   "cell_type": "code",
   "execution_count": 44,
   "metadata": {},
   "outputs": [
    {
     "name": "stdout",
     "output_type": "stream",
     "text": [
      "Business Program Manager, Global Data Centers\n",
      "Database Migration Customer Engineer, Google Cloud\n",
      "Technical Program Manager III, Data Center Construction\n",
      "Data Center Technician\n"
     ]
    }
   ],
   "source": [
    "from bs4 import BeautifulSoup\n",
    "import requests\n",
    "import pandas as pd\n",
    "\n",
    "# Tehdään pyyntö halutulle sivustolle\n",
    "response = requests.get('https://www.google.com/about/careers/applications/jobs/results/?location=Finland')\n",
    "\n",
    "# Parsitaan vastaus BeautifulSoupin avulla\n",
    "soup = BeautifulSoup(response.text, 'html.parser')\n",
    "\n",
    "# Otetaan vastauksesta halutut tiedot, eli nyt tietyn luokan arvot\n",
    "jobs_finland = soup.find_all('h3', class_='QJPWVe')\n",
    "\n",
    "# (Ylimääräinen) tulostus, jotta nähdään, millaista dataa saimme\n",
    "for link in jobs_finland:\n",
    "    print(link.text)\n",
    "\n",
    "# Lisätään arvot dataframeen\n",
    "df_finland = pd.DataFrame({'Job Title': jobs_finland})"
   ]
  },
  {
   "cell_type": "markdown",
   "metadata": {},
   "source": [
    "Sama luokan nimi on kuitenkin kaikilla titteleillä, joten voimme hakea samalla tavalla vaikka Ruotsin avoimet työpaikat:"
   ]
  },
  {
   "cell_type": "code",
   "execution_count": 48,
   "metadata": {},
   "outputs": [],
   "source": [
    "response = requests.get('https://www.google.com/about/careers/applications/jobs/results/?location=Sweden')\n",
    "\n",
    "soup = BeautifulSoup(response.text, 'html.parser')\n",
    "\n",
    "jobs_sweden = soup.find_all('h3', class_='QJPWVe')\n",
    "\n",
    "df_sweden = pd.DataFrame({'Job Title': jobs_sweden})"
   ]
  },
  {
   "cell_type": "markdown",
   "metadata": {},
   "source": [
    "Lisätään dataframeihin maiden nimet, jotta voimme yhdistää ne yhdeksi dataframeksi:"
   ]
  },
  {
   "cell_type": "code",
   "execution_count": 49,
   "metadata": {},
   "outputs": [],
   "source": [
    "df_sweden['Country'] = 'Sweden'\n",
    "df_finland['Country'] = 'Finland'\n",
    "\n",
    "df_combined = pd.concat([df_sweden, df_finland])"
   ]
  },
  {
   "cell_type": "markdown",
   "metadata": {},
   "source": [
    "Sitten piirretään visualisointi:\n",
    "- Avoimien työpaikkojen määrä per maa"
   ]
  },
  {
   "cell_type": "code",
   "execution_count": 51,
   "metadata": {},
   "outputs": [
    {
     "data": {
      "text/plain": [
       "<Axes: xlabel='Country', ylabel='Number of open positions'>"
      ]
     },
     "execution_count": 51,
     "metadata": {},
     "output_type": "execute_result"
    },
    {
     "data": {
      "image/png": "[encoded data removed]",
      "text/plain": [
       "<Figure size 640x480 with 1 Axes>"
      ]
     },
     "metadata": {},
     "output_type": "display_data"
    }
   ],
   "source": [
    "df_combined['Country'].value_counts().plot(kind='bar', ylabel='Number of open positions')"
   ]
  }
 ],
 "metadata": {
  "kernelspec": {
   "display_name": "Python 3",
   "language": "python",
   "name": "python3"
  },
  "language_info": {
   "codemirror_mode": {
    "name": "ipython",
    "version": 3
   },
   "file_extension": ".py",
   "mimetype": "text/x-python",
   "name": "python",
   "nbconvert_exporter": "python",
   "pygments_lexer": "ipython3",
   "version": "3.8.5"
  }
 },
 "nbformat": 4,
 "nbformat_minor": 2
}
